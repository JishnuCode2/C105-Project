{
  "nbformat": 4,
  "nbformat_minor": 0,
  "metadata": {
    "colab": {
      "name": "C105Project.ipynb",
      "provenance": []
    },
    "kernelspec": {
      "name": "python3",
      "display_name": "Python 3"
    },
    "language_info": {
      "name": "python"
    }
  },
  "cells": [
    {
      "cell_type": "code",
      "execution_count": 6,
      "metadata": {
        "colab": {
          "base_uri": "https://localhost:8080/"
        },
        "id": "_rFQXdSG4dh6",
        "outputId": "cd588db0-5566-4d36-d345-de8555721d89"
      },
      "outputs": [
        {
          "output_type": "stream",
          "name": "stdout",
          "text": [
            "Enter year to be checked >> 1900\n",
            "1900\n",
            "The given year is not a leap year.\n"
          ]
        }
      ],
      "source": [
        "#Leap year checker\n",
        "\n",
        "\n",
        "def check_year(x):\n",
        "  if(x % 4 == 0 and x % 100 != 0 or x % 400 == 0):\n",
        "     print(\"The Given year is a leap year.\")\n",
        "  else:\n",
        "    print(\"The given year is not a leap year.\")\n",
        "\n",
        "\n",
        "year = float(input(\"Enter year to be checked >> \"))\n",
        "print(int(year))\n",
        "check_year(year)"
      ]
    },
    {
      "cell_type": "code",
      "source": [
        "\n",
        "def convert_height(cm,option):\n",
        "  if(option == \"1\"):\n",
        "    feet = cm/30.48\n",
        "    print(\"Your height >> \",feet,\" ft\")\n",
        "  elif(option == \"2\"):\n",
        "    inch = cm/2.54\n",
        "    print(\"Your height >> \",inch,\" in\")\n",
        "\n",
        "height = float(input(\"Enter your height in cm >> \"))\n",
        "print(\"Height:- \",height,\" cm\")\n",
        "choice = input(\"Enter (1) to view height in feet, or (2) to view height in inches >> \")\n",
        "convert_height(height,choice)"
      ],
      "metadata": {
        "colab": {
          "base_uri": "https://localhost:8080/"
        },
        "id": "UJ5okyF_9vYw",
        "outputId": "d97b8b47-fdd9-4add-d203-9f4cd53fd0a1"
      },
      "execution_count": 7,
      "outputs": [
        {
          "output_type": "stream",
          "name": "stdout",
          "text": [
            "Enter your height in cm >> 150\n",
            "Height:-  150.0  cm\n",
            "Enter (1) to view height in feet, or (2) to view height in inches >> 1\n",
            "Your height >>  4.921259842519685  ft\n"
          ]
        }
      ]
    }
  ]
}